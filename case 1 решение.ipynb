import pandas as pd
import numpy as np
import os
from sklearn.cluster import KMeans
from sklearn.preprocessing import StandardScaler
from textwrap import shorten
import random

# Константы
categories = [
    'Одежда и обувь', 'Продукты питания', 'Кафе и рестораны', 'Медицина', 'Авто', 'Спорт',
    'Развлечения', 'АЗС', 'Кино', 'Питомцы', 'Книги', 'Цветы', 'Едим дома', 'Смотрим дома',
    'Играем дома', 'Косметика и Парфюмерия', 'Подарки', 'Ремонт дома', 'Мебель', 'Спа и массаж',
    'Такси', 'Отели', 'Путешествия'
]
transfer_types = [
    'salary_in', 'stipend_in', 'family_in', 'cashback_in', 'refund_in', 'card_in',
    'p2p_out', 'card_out', 'atm_withdrawal', 'utilities_out', 'loan_payment_out',
    'cc_repayment_out', 'installment_payment_out', 'fx_buy', 'fx_sell', 'invest_out',
    'invest_in', 'deposit_topup_out', 'deposit_fx_topup_out', 'deposit_fx_withdraw_in',
    'gold_buy_out', 'gold_sell_in'
]
USD_TO_KZT = 540.87  # 1 USD = 540.87 KZT
EUR_TO_KZT = 634.49  # 1 EUR = 634.49 KZT

# Персонажи для кастомизации карт
character_map = {
    'Едим дома': ['Леви Акерман (Атака титанов)', 'Геральт из Ривии (Ведьмак)', 'Энн Ширли (Энн из Зелёных крыш)'],
    'Смотрим дома': ['Эрен Йегер (Атака титанов)', 'Рагнар Лодброк (Викинги)', 'Мардж Симпсон (Симпсоны)'],
    'Играем дома': ['Итадори Юджи (Магическая битва)', 'Джон Сноу (Игра престолов)', 'Рик Санчес (Рик и Морти)'],
    'Кафе и рестораны': ['Сайтама (Ванпанчмен)', 'Тони Старк (Железный человек)', 'Фиби Буффе (Друзья)'],
    'Косметика и Парфюмерия': ['Макима (Человек-бензопила)', 'Даenerys Таргариен (Игра престолов)', 'Рейчел Грин (Друзья)'],
    'Такси': ['Танджиро Камадо (Клинок, рассекающий демонов)', 'Мандалорец (Мандалорец)', 'Шелдон Купер (Теория большого взрыва)'],
    'Путешествия': ['Асуна Юки (Мастера меча онлайн)', 'Индиана Джонс', 'Учиха Итачи (Наруто)'],
    'Отели': ['Микаса Акерман (Атака титанов)', 'Локи (Локи)', 'Лорелай Гилмор (Девочки Гилмор)'],
    'default': ['Годжо Сатору (Магическая битва)', 'Уолтер Уайт (Во все тяжкие)', 'Хомер Симпсон (Симпсоны)']
}

# Список продуктов
products = [
    'Карта для путешествий', 'Премиальная карта', 'Кредитная карта', 'Обмен валют',
    'Кредит наличными', 'Депозит мультивалютный', 'Депозит сберегательный',
    'Депозит накопительный', 'Инвестиции (брокерский счёт)', 'Золотые слитки'
]

# Загрузка датасета
clients_df = pd.read_csv('/content/clients.csv')
transaction_files = [f'/content/client_{i}_transactions_3m.csv' for i in range(1, 61)]
transfer_files = [f'/content/client_{i}_transfers_3m.csv' for i in range(1, 61)]

# Проверка существования файлов
transaction_dfs = []
transfer_dfs = []
for trans_file, transf_file in zip(transaction_files, transfer_files):
    if os.path.exists(trans_file):
        df = pd.read_csv(trans_file)
        transaction_dfs.append(df)
    else:
        print(f"Warning: File {trans_file} not found")
    if os.path.exists(transf_file):
        df = pd.read_csv(transf_file)
        transfer_dfs.append(df)
    else:
        print(f"Warning: File {transf_file} not found")

# Объединение всех файлов
transactions_df = pd.concat(transaction_dfs, ignore_index=True)
transfers_df = pd.concat(transfer_dfs, ignore_index=True)

# Преобразование дат и конвертация валют
transactions_df['date'] = pd.to_datetime(transactions_df['date'], errors='coerce')
transfers_df['date'] = pd.to_datetime(transfers_df['date'], errors='coerce')
transactions_df['amount_KZT'] = transactions_df.apply(
    lambda row: row['amount'] * USD_TO_KZT if row['currency'] == 'USD' else
                (row['amount'] * EUR_TO_KZT if row['currency'] == 'EUR' else row['amount']),
    axis=1
)
transfers_df['amount_KZT'] = transfers_df.apply(
    lambda row: row['amount'] * USD_TO_KZT if row['currency'] == 'USD' else
                (row['amount'] * EUR_TO_KZT if row['currency'] == 'EUR' else row['amount']),
    axis=1
)

# Кластеризация
def prepare_clustering_data(clients_df, transactions_df, transfers_df):
    key_categories = ['Путешествия', 'Такси', 'Отели', 'Кафе и рестораны', 'Косметика и Парфюмерия',
                      'Едим дома', 'Смотрим дома', 'Играем дома']
    spend_features = transactions_df.groupby(['client_code', 'category'])['amount_KZT'].sum().unstack(fill_value=0)
    spend_features = spend_features[key_categories].reindex(clients_df['client_code'], fill_value=0)
    key_transfers = ['fx_buy', 'fx_sell', 'atm_withdrawal', 'loan_payment_out', 'cc_repayment_out', 'installment_payment_out']
    transfer_features = transfers_df.groupby(['client_code', 'type'])['amount_KZT'].sum().unstack(fill_value=0)
    transfer_features = transfer_features[key_transfers].reindex(clients_df['client_code'], fill_value=0)
    features = clients_df[['client_code', 'avg_monthly_balance_KZT']].set_index('client_code')
    features = features.join(spend_features).join(transfer_features).fillna(0)
    scaler = StandardScaler()
    scaled_features = scaler.fit_transform(features)
    kmeans = KMeans(n_clusters=6, random_state=42)
    clusters = kmeans.fit_predict(scaled_features)
    clients_df['cluster'] = pd.Series(clusters, index=features.index).reindex(clients_df['client_code']).values
    return clients_df

clients_df = prepare_clustering_data(clients_df, transactions_df, transfers_df)

# Приоритетные продукты
cluster_product_priority = {
    0: 'Кредитная карта',
    1: 'Карта для путешествий',
    2: 'Премиальная карта',
    3: 'Депозит сберегательный',
    4: 'Обмен валют',
    5: 'Инвестиции (брокерский счёт)'
}

# Для отладки
print("\nРаспределение кластеров:")
print(clients_df['cluster'].value_counts())
print(clients_df.groupby('cluster')['avg_monthly_balance_KZT'].mean())

# Форматирование сумм в KZT
def format_kzt(amount):
    return f"{int(amount):,}".replace(',', ' ') + ' ₸'

# Нормализация выгод
def normalize_benefits(benefits):
    values = np.array([v for v in benefits.values()])
    if values.max() > 0:
        normalized = np.log1p(values) / np.log1p(values.max())
        return {k: normalized[i] * 100000 for i, k in enumerate(benefits.keys())}
    return benefits

# Расчет выгодных пушей
def calculate_benefits(client_code, clients_df, transactions_df, transfers_df):
    client_info = clients_df[clients_df['client_code'] == client_code].iloc[0]
    name = client_info['name']
    avg_balance = client_info['avg_monthly_balance_KZT']
    cluster = client_info['cluster']
    status = client_info['status']
    city = client_info.get('city', 'вашем городе')
    client_trans = transactions_df[transactions_df['client_code'] == client_code]
    client_transf = transfers_df[transfers_df['client_code'] == client_code]

    # Анализ транзакций
    monthly_spend = client_trans.groupby(client_trans['date'].dt.strftime('%B'))['amount_KZT'].sum()
    month_map = {'June': 'июнь', 'July': 'июль', 'August': 'август'}
    period = month_map.get(monthly_spend.idxmax(), 'август') if not monthly_spend.empty else 'август'
    spend_by_cat = client_trans.groupby('category')['amount_KZT'].sum().to_dict()
    trans_count_by_cat = client_trans.groupby('category').size().to_dict()
    total_spend = client_trans['amount_KZT'].sum()
    fx_spend = spend_by_cat.get('Путешествия', 0) + spend_by_cat.get('Отели', 0) + \
               client_trans[client_trans['currency'] != 'KZT']['amount_KZT'].sum()
    travel_spend = spend_by_cat.get('Путешествия', 0) + spend_by_cat.get('Отели', 0) + spend_by_cat.get('Такси', 0)
    luxury_spend = spend_by_cat.get('Косметика и Парфюмерия', 0) + spend_by_cat.get('Кафе и рестораны', 0)
    online_spend = spend_by_cat.get('Едим дома', 0) + spend_by_cat.get('Смотрим дома', 0) + \
                   spend_by_cat.get('Играем дома', 0)
    top_cats = sorted(spend_by_cat.items(), key=lambda x: x[1], reverse=True)[:3]
    top_cat_names = [cat for cat, _ in top_cats]
    top_category = top_cats[0][0] if top_cats else 'разное'
    top_category_amount = format_kzt(top_cats[0][1]) if top_cats else format_kzt(total_spend)
    top_category_count = trans_count_by_cat.get(top_category, 0)
    taxi_trips = trans_count_by_cat.get('Такси', 0)
    restaurant_trips = trans_count_by_cat.get('Кафе и рестораны', 0)
    online_trips = sum([trans_count_by_cat.get(cat, 0) for cat in ['Едим дома', 'Смотрим дома', 'Играем дома']])
    spend_to_balance_ratio = total_spend / avg_balance if avg_balance > 0 else 0

    # Анализ переводов
    try:
        fx_activity = len(client_transf[client_transf['type'].isin(['fx_buy', 'fx_sell'])])
        fx_currency = 'USD' if client_trans[client_trans['currency'] == 'USD']['amount_KZT'].sum() > client_trans[client_trans['currency'] == 'EUR']['amount_KZT'].sum() else 'EUR'
        atm_withdrawals = client_transf[client_transf['type'] == 'atm_withdrawal']['amount_KZT'].sum()
        loan_payments = len(client_transf[client_transf['type'].isin(['loan_payment_out', 'cc_repayment_out', 'installment_payment_out'])])
        outflows = client_transf[client_transf['direction'] == 'out']['amount_KZT'].sum()
        inflows = client_transf[client_transf['direction'] == 'in']['amount_KZT'].sum()
        cash_gap = outflows > inflows * 1.2
        invest_activity = len(client_transf[client_transf['type'].isin(['invest_out', 'invest_in'])])
        gold_activity = len(client_transf[client_transf['type'].isin(['gold_buy_out', 'gold_sell_in'])])
        topups = len(client_transf[client_transf['type'].isin(['salary_in', 'family_in'])])
    except KeyError as e:
        print(f"Warning: Error processing columns for client_code {client_code}: {e}")
        fx_activity, atm_withdrawals, loan_payments, outflows, inflows, invest_activity, gold_activity, topups = 0, 0, 0, 0, 0, 0, 0, 0
        cash_gap = False
        fx_currency = 'USD'

    # Отладка: ключевые метрики
    print(f"\nClient {client_code} metrics:")
    print(f"  travel_spend: {travel_spend}, luxury_spend: {luxury_spend}, online_spend: {online_spend}")
    print(f"  fx_activity: {fx_activity}, loan_payments: {loan_payments}, cash_gap: {cash_gap}")
    print(f"  avg_balance: {avg_balance}, topups: {topups}, gold_activity: {gold_activity}")

    # Расчет выгод
    benefits = {}
    benefits['Карта для путешествий'] = 0.08 * travel_spend
    tier = 0.06 if avg_balance >= 800000 or status == 'Премиальный клиент' else 0.04
    saved_fees = min(atm_withdrawals * 0.02, 80000)
    benefits['Премиальная карта'] = tier * total_spend + 0.06 * luxury_spend + saved_fees
    
    credit_card_cashback_rate = 0.05
    if status == 'Премиальный клиент':
        credit_card_cashback_rate = 0.07
    elif online_trips > 5 and total_spend > 400000:
        credit_card_cashback_rate = 0.08
    elif total_spend < 80000:
        credit_card_cashback_rate = 0.04
    benefit3 = credit_card_cashback_rate * (sum([spend_by_cat.get(cat, 0) for cat in top_cat_names]) + online_spend)
    benefits['Кредитная карта'] = benefit3
    
    benefit4 = fx_activity * 2500 + (0.015 * fx_spend if fx_spend > 8000 else 0)
    benefits['Обмен валют'] = benefit4
    benefits['Кредит наличными'] = 80000 if cash_gap else 0
    benefits['Депозит мультивалютный'] = (avg_balance * 0.001 * 3) if fx_activity > 0 else 0
    volatility = np.std([spend_by_cat.get(cat, 0) for cat in categories])
    benefits['Депозит сберегательный'] = (avg_balance * 0.0012 * 3) if volatility < 20000 and avg_balance > 300000 else 0
    benefits['Депозит накопительный'] = (avg_balance * 0.001 * 3) if topups > 2 else 0
    benefits['Инвестиции (брокерский счёт)'] = avg_balance * 0.002 if invest_activity == 0 and avg_balance > 60000 else 0
    benefits['Золотые слитки'] = gold_activity * 4000 if avg_balance > 150000 else 0

    # Нормализация выгод
    benefits = normalize_benefits(benefits)
    product = max(benefits, key=benefits.get)

    # Проверка релевантности продукта
    if product == 'Кредит наличными' and not cash_gap:
        benefits['Кредит наличными'] = 0
        product = max(benefits, key=benefits.get)
    if product == 'Золотые слитки' and gold_activity == 0:
        benefits['Золотые слитки'] = 0
        product = max(benefits, key=benefits.get)
    if product == 'Депозит мультивалютный' and fx_activity == 0:
        benefits['Депозит мультивалютный'] = 0
        product = max(benefits, key=benefits.get)

    # Отладка: выводим нормализованные выгоды
    print(f"Client {client_code} normalized benefits: {benefits}")

    # Выбор персонажа
    characters = character_map.get(top_category, character_map['default'])
    character = random.choice(characters)

    # Генерация пуш-уведомлений
    push_variants = []

    if product == 'Карта для путешествий':
        travel_amount = format_kzt(travel_spend)
        cashback = format_kzt(benefits['Карта для путешествий'])
        trip_count = taxi_trips if taxi_trips > 0 else 'несколько'
        if taxi_trips > 5 and spend_to_balance_ratio > 0.5:
            push_variants.append(
                f"{name}, ваш вайб в {city} — {trip_count} трипов на такси за {travel_amount}! Тревел-карта с {character} бустанёт {cashback}. Дропните заявку!"
            )
        elif taxi_trips > 3:
            push_variants.append(
                f"{name}, ваши {trip_count} трипов на такси в {city} за {travel_amount} — вайб! Тревел-карта с {character} бустанёт {cashback}. Качните карту!"
            )
        else:
            push_variants.append(
                f"{name}, ваши трипы в {city} за {travel_amount} в {period} — топ! Тревел-карта с {character} бустанёт {cashback}. Качните карту сейчас!"
            )

    elif product == 'Премиальная карта':
        cashback_rate = f"{tier * 100:,.1f}".replace(',', ' ')
        luxury_amount = format_kzt(spend_by_cat.get(top_category, 0))
        if restaurant_trips > 3 and top_category == 'Кафе и рестораны':
            push_variants.append(
                f"{name}, ваши {restaurant_trips} тус в ресторанах {city} за {luxury_amount} — хайп! Премиальная карта с {character} флексит {cashback_rate}% кешбэка. Дропните заявку!"
            )
        elif top_category == 'Косметика и Парфюмерия' and spend_to_balance_ratio > 0.3:
            push_variants.append(
                f"{name}, ваш стиль в {city} — {luxury_amount} на косметику! Премиальная карта с {character} дропнет {cashback_rate}% кешбэка. Оформите карту!"
            )
        else:
            push_variants.append(
                f"{name}, ваши {luxury_amount} на {top_category.lower()} в {city} — топ! Премиальная карта с {character} флексит {cashback_rate}% кешбэка. Дропните заявку!"
            )

    elif product == 'Кредитная карта':
        top_spend = format_kzt(spend_by_cat.get(top_category, 0))
        cashback_amount = format_kzt(benefits['Кредитная карта'])
        cashback_rate = f"{credit_card_cashback_rate * 100:,.1f}".replace(',', ' ')
        if online_trips > 5 and top_category in ['Едим дома', 'Смотрим дома', 'Играем дома']:
            push_variants.append(
                f"{name}, ваши {top_category_count} заказов на {top_category.lower()} в {city} за {top_spend} — хайп! Кредитная карта с {character} бустанёт {cashback_rate}% кешбэка, до {cashback_amount}. Качните карту!"
            )
        elif top_category_count > 3:
            push_variants.append(
                f"{name}, ваши {top_category_count} трат на {top_category.lower()} в {city} за {top_spend} — топ! Кредитная карта с {character} дропнет {cashback_rate}% кешбэка, до {cashback_amount}. Оформите карту!"
            )
        else:
            push_variants.append(
                f"{name}, ваши траты на {top_category.lower()} в {city} за {top_spend} — хайп! Кредитная карта с {character} флексит {cashback_rate}% кешбэка, до {cashback_amount}. Оформите карту!"
            )

    elif product == 'Обмен валют':
        fx_amount = format_kzt(fx_spend)
        fx_benefit = format_kzt(benefits['Обмен валют'])
        if fx_activity > 2 and fx_currency == 'USD':
            push_variants.append(
                f"{name}, вы жонглируете USD в {city} как босс! {fx_amount} трат в {period}. С приложением бустанёте {fx_benefit} профита. Дропните обмен!"
            )
        elif fx_activity > 1:
            push_variants.append(
                f"{name}, ваши {fx_amount} в {fx_currency} в {city} за {period} — вайб! С приложением бустанёте {fx_benefit} на курсе. Настройте обмен!"
            )
        else:
            push_variants.append(
                f"{name}, ваши {fx_amount} в {fx_currency} в {city} в {period} — хайп! С приложением флексите {fx_benefit} экономии. Настройте обмен!"
            )

    elif product in ['Депозит сберегательный', 'Депозит накопительный']:
        balance_formatted = format_kzt(avg_balance)
        interest = format_kzt(benefits[product])
        if topups > 3 and spend_to_balance_ratio < 0.3:
            push_variants.append(
                f"{name}, ваш стэк {balance_formatted} в {city} — чистый вайб! Вклад дропнет {interest} профита за 3 месяца. Качните капитал! Откройте вклад!"
            )
        elif topups > 2:
            push_variants.append(
                f"{name}, {balance_formatted} в {city} в {period} — хайп! Вклад дропнет {interest} профита. Флексите с выгодой! Откройте вклад!"
            )
        else:
            push_variants.append(
                f"{name}, с {balance_formatted} в {city} вклад в {period} бустанёт {interest}. Качните капитал с умом! Откройте вклад!"
            )

    elif product == 'Инвестиции (брокерский счёт)':
        balance_formatted = format_kzt(avg_balance)
        invest_benefit = format_kzt(benefits['Инвестиции (брокерский счёт)'])
        if spend_to_balance_ratio < 0.5:
            push_variants.append(
                f"{name}, ваш стэк {balance_formatted} в {city} — готовый вайб! Инвестиции бустанут {invest_benefit} без комиссий. Качните профит! Откройте счёт!"
            )
        else:
            push_variants.append(
                f"{name}, {balance_formatted} в {city} в {period} — хайп! Инвестиции бустанут {invest_benefit} профита. Дропните счёт сейчас!"
            )

    elif product == 'Кредит наличными':
        outflow_amount = format_kzt(outflows)
        if spend_to_balance_ratio > 0.7:
            push_variants.append(
                f"{name}, ваши траты {outflow_amount} в {city} за {period} — хайп! Кредит до 500 000 ₸ починит бюджет. Дропните заявку!"
            )
        else:
            push_variants.append(
                f"{name}, в {period} ваши {outflow_amount} в {city} — топ! Кредит до 500 000 ₸ флексит выплатами. Качните лимит сейчас!"
            )

    else:
        benefit_formatted = format_kzt(benefits[product])
        push_variants.append(
            f"{name}, ваш {product.lower()} в {city} в {period} — хайп! Дропните {benefit_formatted} профита. Качните выгоду! Подключите сейчас!"
        )

    # Выбор случайного варианта пуша
    weights = [1.5 if ('top_category' in push or 'top_category_count' in push or character in push) else 1.0 for push in push_variants]
    push = random.choices(push_variants, weights=weights, k=1)[0]

    # Обрезка с сохранением смысла
    push = shorten(push, width=220, placeholder='...')

    return client_code, product, push

# Основной цикл
results = []
for client_code in clients_df['client_code']:
    if client_code in transactions_df['client_code'].values and client_code in transfers_df['client_code'].values:
        res = calculate_benefits(client_code, clients_df, transactions_df, transfers_df)
        results.append(res)
    else:
        print(f"Warning: No transactions or transfers found for client_code {client_code}")

# Создание DataFrame
columns = ['client_code', 'product', 'push_notification']
df_results = pd.DataFrame(columns=columns)

# Заполнение DataFrame
for client_code, product, push in results:
    row = {'client_code': client_code, 'product': product, 'push_notification': push}
    df_results = pd.concat([df_results, pd.DataFrame([row])], ignore_index=True)

# Сохранение CSV файла
df_results.to_csv('/content/results.csv', index=False, encoding='utf-8')

# Для проверки
print("\nПервые 5 строк results.csv:")
print(df_results.head().to_csv(index=False))

# Отладка: распределение top_product
print("\nРаспределение рекомендуемых продуктов:")
print(df_results['product'].value_counts())